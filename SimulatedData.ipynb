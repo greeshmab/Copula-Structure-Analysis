{
 "cells": [
  {
   "cell_type": "markdown",
   "metadata": {},
   "source": [
    "# Simulation data"
   ]
  },
  {
   "cell_type": "markdown",
   "metadata": {},
   "source": [
    "\n",
    "We simulate 100 IID data points of $T_{3}$ Copula to calculate Kendall's estimators and Test statistic mentioned in paper Copula Structure Analysis. \n",
    "We then compare the test statistic with Chi-square values with 95% confidence and find the total number of factors."
   ]
  },
  {
   "cell_type": "code",
   "execution_count": 1,
   "metadata": {
    "colab": {
     "base_uri": "https://localhost:8080/",
     "height": 683
    },
    "colab_type": "code",
    "id": "IbyHLa6QdFYs",
    "outputId": "d537ea5b-d3a1-425c-99af-44d60be633f4",
    "scrolled": true
   },
   "outputs": [
    {
     "name": "stdout",
     "output_type": "stream",
     "text": [
      "Requirement already satisfied: seaborn in /Users/greeshmab/opt/anaconda3/lib/python3.7/site-packages (0.10.0)\n",
      "Requirement already satisfied: numpy>=1.13.3 in /Users/greeshmab/opt/anaconda3/lib/python3.7/site-packages (from seaborn) (1.16.6)\n",
      "Requirement already satisfied: matplotlib>=2.1.2 in /Users/greeshmab/opt/anaconda3/lib/python3.7/site-packages (from seaborn) (3.1.3)\n",
      "Requirement already satisfied: scipy>=1.0.1 in /Users/greeshmab/opt/anaconda3/lib/python3.7/site-packages (from seaborn) (1.2.3)\n",
      "Requirement already satisfied: pandas>=0.22.0 in /Users/greeshmab/opt/anaconda3/lib/python3.7/site-packages (from seaborn) (0.24.2)\n",
      "Requirement already satisfied: cycler>=0.10 in /Users/greeshmab/opt/anaconda3/lib/python3.7/site-packages (from matplotlib>=2.1.2->seaborn) (0.10.0)\n",
      "Requirement already satisfied: kiwisolver>=1.0.1 in /Users/greeshmab/opt/anaconda3/lib/python3.7/site-packages (from matplotlib>=2.1.2->seaborn) (1.1.0)\n",
      "Requirement already satisfied: pyparsing!=2.0.4,!=2.1.2,!=2.1.6,>=2.0.1 in /Users/greeshmab/opt/anaconda3/lib/python3.7/site-packages (from matplotlib>=2.1.2->seaborn) (2.4.6)\n",
      "Requirement already satisfied: python-dateutil>=2.1 in /Users/greeshmab/opt/anaconda3/lib/python3.7/site-packages (from matplotlib>=2.1.2->seaborn) (2.8.1)\n",
      "Requirement already satisfied: pytz>=2011k in /Users/greeshmab/opt/anaconda3/lib/python3.7/site-packages (from pandas>=0.22.0->seaborn) (2019.3)\n",
      "Requirement already satisfied: six in /Users/greeshmab/opt/anaconda3/lib/python3.7/site-packages (from cycler>=0.10->matplotlib>=2.1.2->seaborn) (1.14.0)\n",
      "Requirement already satisfied: setuptools in /Users/greeshmab/opt/anaconda3/lib/python3.7/site-packages (from kiwisolver>=1.0.1->matplotlib>=2.1.2->seaborn) (46.0.0.post20200309)\n",
      "Requirement already satisfied: yfinance in /Users/greeshmab/opt/anaconda3/lib/python3.7/site-packages (0.1.54)\n",
      "Requirement already satisfied: multitasking>=0.0.7 in /Users/greeshmab/opt/anaconda3/lib/python3.7/site-packages (from yfinance) (0.0.9)\n",
      "Requirement already satisfied: requests>=2.20 in /Users/greeshmab/opt/anaconda3/lib/python3.7/site-packages (from yfinance) (2.22.0)\n",
      "Requirement already satisfied: numpy>=1.15 in /Users/greeshmab/opt/anaconda3/lib/python3.7/site-packages (from yfinance) (1.16.6)\n",
      "Requirement already satisfied: pandas>=0.24 in /Users/greeshmab/opt/anaconda3/lib/python3.7/site-packages (from yfinance) (0.24.2)\n",
      "Requirement already satisfied: certifi>=2017.4.17 in /Users/greeshmab/opt/anaconda3/lib/python3.7/site-packages (from requests>=2.20->yfinance) (2019.11.28)\n",
      "Requirement already satisfied: urllib3!=1.25.0,!=1.25.1,<1.26,>=1.21.1 in /Users/greeshmab/opt/anaconda3/lib/python3.7/site-packages (from requests>=2.20->yfinance) (1.25.8)\n",
      "Requirement already satisfied: chardet<3.1.0,>=3.0.2 in /Users/greeshmab/opt/anaconda3/lib/python3.7/site-packages (from requests>=2.20->yfinance) (3.0.4)\n",
      "Requirement already satisfied: idna<2.9,>=2.5 in /Users/greeshmab/opt/anaconda3/lib/python3.7/site-packages (from requests>=2.20->yfinance) (2.8)\n",
      "Requirement already satisfied: pytz>=2011k in /Users/greeshmab/opt/anaconda3/lib/python3.7/site-packages (from pandas>=0.24->yfinance) (2019.3)\n",
      "Requirement already satisfied: python-dateutil>=2.5.0 in /Users/greeshmab/opt/anaconda3/lib/python3.7/site-packages (from pandas>=0.24->yfinance) (2.8.1)\n",
      "Requirement already satisfied: six>=1.5 in /Users/greeshmab/opt/anaconda3/lib/python3.7/site-packages (from python-dateutil>=2.5.0->pandas>=0.24->yfinance) (1.14.0)\n",
      "Requirement already satisfied: matplotlib in /Users/greeshmab/opt/anaconda3/lib/python3.7/site-packages (3.1.3)\n",
      "Requirement already satisfied: cycler>=0.10 in /Users/greeshmab/opt/anaconda3/lib/python3.7/site-packages (from matplotlib) (0.10.0)\n",
      "Requirement already satisfied: numpy>=1.11 in /Users/greeshmab/opt/anaconda3/lib/python3.7/site-packages (from matplotlib) (1.16.6)\n",
      "Requirement already satisfied: kiwisolver>=1.0.1 in /Users/greeshmab/opt/anaconda3/lib/python3.7/site-packages (from matplotlib) (1.1.0)\n",
      "Requirement already satisfied: pyparsing!=2.0.4,!=2.1.2,!=2.1.6,>=2.0.1 in /Users/greeshmab/opt/anaconda3/lib/python3.7/site-packages (from matplotlib) (2.4.6)\n",
      "Requirement already satisfied: python-dateutil>=2.1 in /Users/greeshmab/opt/anaconda3/lib/python3.7/site-packages (from matplotlib) (2.8.1)\n",
      "Requirement already satisfied: six in /Users/greeshmab/opt/anaconda3/lib/python3.7/site-packages (from cycler>=0.10->matplotlib) (1.14.0)\n",
      "Requirement already satisfied: setuptools in /Users/greeshmab/opt/anaconda3/lib/python3.7/site-packages (from kiwisolver>=1.0.1->matplotlib) (46.0.0.post20200309)\n"
     ]
    }
   ],
   "source": [
    "!pip install seaborn\n",
    "!pip install yfinance\n",
    "!pip install matplotlib"
   ]
  },
  {
   "cell_type": "code",
   "execution_count": 2,
   "metadata": {
    "colab": {
     "base_uri": "https://localhost:8080/",
     "height": 368
    },
    "colab_type": "code",
    "id": "B8-rRyhXi3p6",
    "outputId": "4bbc6dd3-6726-4493-dbbf-03bb9fb49107"
   },
   "outputs": [],
   "source": [
    "import numpy as np\n",
    "import pandas as pd\n",
    "import matplotlib.pyplot as plt\n",
    "import scipy.stats as stats\n",
    "from scipy.stats import invgamma, chi2, t\n",
    "import math\n",
    "import yfinance as yf\n",
    "import seaborn\n",
    "from scipy.optimize import minimize"
   ]
  },
  {
   "cell_type": "markdown",
   "metadata": {},
   "source": [
    "### Generating Test statistic "
   ]
  },
  {
   "cell_type": "code",
   "execution_count": 3,
   "metadata": {
    "colab": {},
    "colab_type": "code",
    "id": "I5AkhOAQmaRN"
   },
   "outputs": [],
   "source": [
    "# Defines required functions \n",
    "\n",
    "# Student T distribution Multivariate random function\n",
    "# Sig - Covariance Matrix for T copula\n",
    "# df - degrees of freedom for T copula\n",
    "# Size - No of samples to be generated\n",
    "def tMultivariate_rand(Sig, df, size):\n",
    "    (m,n) = Sig.shape\n",
    "    s = np.diag(Sig)\n",
    "    s_not_1 = s != 1\n",
    "    if any(s_not_1):\n",
    "        Sig = Sig/np.sqrt(s*s.T)\n",
    "    T = np.linalg.cholesky(Sig)\n",
    "        \n",
    "    ra = np.dot(np.random.randn(size,len(T)),T)\n",
    "    x = np.sqrt(nu/chi2.rvs(df, size=size)[:, np.newaxis])\n",
    "    ra = ra*x    # No need the ./x(:,ones(n,1)) as Python does elem by elem operations\n",
    "    if(df>2):\n",
    "        ra=ra*(df/(df-2))\n",
    "    return ra\n",
    "\n",
    "# This function generates random Student T Copula \n",
    "def tCopula_rand(Rho, nu, d, n):\n",
    "    multiVar = tMultivariate_rand(Rho, d, n)\n",
    "    u = stats.t.cdf(multiVar,nu)\n",
    "    return u\n",
    "\n",
    "#takes i,j and returns index of it in the vectorize function\n",
    "# is used in correlation estimator matrix\n",
    "def indexMappingFunc(i, j):\n",
    "    index = -1\n",
    "    for k in range(1,i):\n",
    "        for l in range(0,k):\n",
    "            index = index+1\n",
    "        \n",
    "    for m in range(0,j+1):\n",
    "        index = index+1\n",
    "    return index\n",
    "\n",
    "# for given i, j get kendalls tau\n",
    "def kendalls_tau(U, i, j, k, l):\n",
    "    n,d = U.shape\n",
    "    snij = 0\n",
    "    snkl = 0\n",
    "    snijkl = 0 \n",
    "    for p in range(0, n-1):\n",
    "        for q in range(0,p-1):\n",
    "            snij = snij + np.sign((U[p][i]-U[q][i])*(U[p][j]-U[q][j]))\n",
    "            snkl = snkl + np.sign((U[p][k]-U[q][k])*(U[p][l]-U[q][l]))\n",
    "        snijkl = snijkl + (snij*snkl)\n",
    "\n",
    "    snijkl = (snijkl/(n*(n-1)*(n-1)))\n",
    "    snij = ((snij*2)/(n*(n-1)))\n",
    "    snkl = ((snkl*2)/(n*(n-1)))\n",
    "    return snij, snkl, snijkl\n",
    "\n",
    "# Given a multivariate Copula matrix\n",
    "# Generates kendalls estimators\n",
    "def Kendalls_estimators(U):\n",
    "    n,d = U.shape\n",
    "    t = np.identity(d)\n",
    "    dim = int((d*(d-1)/2))\n",
    "    T = np.identity(dim)\n",
    "    snij = 0 \n",
    "    snkl = 0\n",
    "    snijkl = 0\n",
    "    for i in range(1,d):\n",
    "        for j in range(0,i):\n",
    "            for k in range(1,d):\n",
    "                for l in range(0,k):\n",
    "                    snij, snkl, snijkl = kendalls_tau(U, i, j, k, l)\n",
    "                    #print(i, j , k , l)\n",
    "                    t[i][j] = snij\n",
    "                    t[j][i] = snij\n",
    "                    t[k][l] = snkl\n",
    "                    t[l][k] = snkl\n",
    "                    a = indexMappingFunc(i,j)\n",
    "                    b = indexMappingFunc(k,l)\n",
    "                    T[a][b] = snijkl\n",
    "                    T[b][a] = snijkl\n",
    "    return t, T\n",
    "\n",
    "#Vectorize the correlation matrix to a vector with non repeating elements\n",
    "def vectorize(C):\n",
    "    n,n = C.shape\n",
    "    vec = []\n",
    "    for i in range(1,n):\n",
    "        for j in range(0,i):\n",
    "            vec.append(C[i][j])\n",
    "    return vec\n",
    "\n",
    "#Devectorizes a vector to the correlation matrix with non repeating elements\n",
    "def devectorize(arr):\n",
    "    n = len(arr)\n",
    "    d = int(np.sqrt(n*2))+1\n",
    "    C = np.identity(d)\n",
    "    c = 0 \n",
    "    for i in range(1,d):\n",
    "        for j in range(0,i):\n",
    "            C[i][j] = arr[c]\n",
    "            C[j][i] = arr[c]\n",
    "            c = c+1\n",
    "    return C\n",
    "\n",
    "#Generate KEndalls T matrix estimate\n",
    "#Returns a matrix\n",
    "def Kendalls_tau_matrix(T, t, d):\n",
    "    n, n = T.shape\n",
    "    Testimate = np.identity(n)\n",
    "    for i in range(1,d):\n",
    "        for j in range(0,i):\n",
    "            for k in range(1,d):\n",
    "                for l in range(0,k):\n",
    "                    a = indexMappingFunc(i,j)\n",
    "                    b = indexMappingFunc(k,l)\n",
    "                    #print(i,j,k,l,a,b)\n",
    "                    Tval = T[a][b]\n",
    "                    stat = (math.pi*math.pi)*math.cos(math.pi*float(t[i][j])*0.5)*math.cos(math.pi*float(t[k][l])*0.5)*(Tval - t[i][j]*t[k][l])\n",
    "                    Testimate[a][b] = stat\n",
    "                    Testimate[b][a] = stat\n",
    "                    \n",
    "    return Testimate\n",
    "\n",
    "\n",
    "def generateTestStatistic(U, r):\n",
    "    #Estimate kendalls tau and Kendalls estimator matrix\n",
    "    #t -> Kendalls tau matrix\n",
    "    #T -> Kendalls Tau based correlation estimator\n",
    "    t, T = Kendalls_estimators(U)\n",
    "    d, d = t.shape \n",
    "    # Calculate the optimized test statistic\n",
    "    # the Kendalls tau related correlation estimator\n",
    "    # r = sin(pi/2*T) where T is kendals tau matrix\n",
    "    tvec = vectorize(t)\n",
    "    RTau = [(math.pi)*float(i)*0.5 for i in tvec] \n",
    "    \n",
    "    Testimate = Kendalls_tau_matrix(T, t, d)\n",
    "    TestInv = np.linalg.inv(Testimate)\n",
    "    # Quadratic descrepancy function\n",
    "    # D = ((r-RTau)^T)*(T^-1)*(r-RTau)\n",
    "    diff = np.array([r[i]-RTau[i] for i in range(0,len(r))])\n",
    "    D = (diff).transpose()*TestInv*(diff)\n",
    "    return D\n",
    "    "
   ]
  },
  {
   "cell_type": "markdown",
   "metadata": {},
   "source": [
    "### Simulated data\n",
    "\n",
    "We choose a d = 10 dimensional setting with m =2 factors and loadings as given below. \n",
    "Then $LL^{T} + V^{2} = R$ is a correlation matrix.\n",
    "We simulate 100 IID samples of length n = 10 of the $t_{3}$ -copula, calculate the Kendall's-${\\tau}$ estimators.\n",
    "Then calculate late the test statistic $T_{\\tau}$ from these.\n",
    "We take one factor model here - L1 as factor loadings.\n"
   ]
  },
  {
   "cell_type": "code",
   "execution_count": 4,
   "metadata": {
    "colab": {
     "base_uri": "https://localhost:8080/",
     "height": 232
    },
    "colab_type": "code",
    "id": "u0Cf9Nc5c8WB",
    "outputId": "cf44f1b6-27e4-42c9-c67c-849b4c8e6aa6"
   },
   "outputs": [],
   "source": [
    "#Copula factor model\n",
    "#L -> d*m\n",
    "#V ->  d*d\n",
    "#R(v) = L*L^T+ V*V.  #d*d\n",
    "\n",
    "#Taking one factor model\n",
    "L1 = np.array([[0.9, 0.9, 0.9, 0.9, 0.9, 0, 0, 0, 0, 0]])\n",
    "L1t = L1.transpose()\n",
    "L2 = [[0.9, 0.9, 0.9, 0.9, 0.9, 0, 0, 0, 0, 0],\n",
    "      [0, 0, 0, 0, 0, 0.9, 0.9, 0.9, 0.9, 0.9]]\n",
    "\n",
    "dim=10\n",
    "V = np.zeros((dim, dim))\n",
    "np.fill_diagonal(V, 0.19)\n",
    "\n",
    "#Covariance matrix \n",
    "Sig = L1*L1t + V\n",
    "\n",
    "#number of data points\n",
    "n = 50\n",
    "#Degrees of freedom\n",
    "nu = 3\n",
    "#dimension\n",
    "d = 10\n",
    "\n",
    "r = []\n",
    "#R(V) - all non repeating elements of Covariance matrix - r\n",
    "for i in range(1,d):\n",
    "    for j in range(0, i):\n",
    "        r.append(Sig[i][j])\n"
   ]
  },
  {
   "cell_type": "code",
   "execution_count": 6,
   "metadata": {},
   "outputs": [],
   "source": [
    "sample100 = []\n",
    "\n",
    "#Generate 100 samples for test statistic\n",
    "for i in range(0,100):\n",
    "    #Generate t3 coplua with Sig as covariance matrix\n",
    "    U = tCopula_rand(Sig, nu, d, n)\n",
    "\n",
    "    #minimize test statistic and compare it with chi-square \n",
    "    #res = minimize(D, 0, method='nelder-mead')\n",
    "    D = generateTestStatistic(U, r)\n",
    "    sample100.append(n*D.min())\n",
    "\n",
    "#with open('sample100.txt', 'w') as filehandle:\n",
    "#    for listitem in sample100:\n",
    "#        filehandle.write('%s\\n' % listitem)"
   ]
  },
  {
   "cell_type": "markdown",
   "metadata": {},
   "source": [
    "In the case of the one factor with m = 1 , the empirical distribution of the test statistic $T_{\\tau}$  is\n",
    "far off the expected $\\chi^{2}_{df}$ -distribution (with df = 35 under the null hypothesis) rejecting obviously the one-factor model at almost any level of confidence level."
   ]
  },
  {
   "cell_type": "code",
   "execution_count": 7,
   "metadata": {
    "colab": {
     "base_uri": "https://localhost:8080/",
     "height": 232
    },
    "colab_type": "code",
    "id": "Bgc7Vq8Givnp",
    "outputId": "04346449-9ad1-4724-87b9-e6ca74930ee4",
    "scrolled": true
   },
   "outputs": [
    {
     "name": "stdout",
     "output_type": "stream",
     "text": [
      "[-26215.73256876642, -483340.7223329153, -13887.476114458019, -49705.213687357886, -271405.58636680123, -7461.9691783989765, -492869.5546623525, -50186.542106819186, -82467.72304070528, -25369.413061898937]\n"
     ]
    },
    {
     "data": {
      "image/png": "[encoded data removed]",
      "text/plain": [
       "<Figure size 432x288 with 1 Axes>"
      ]
     },
     "metadata": {
      "needs_background": "light"
     },
     "output_type": "display_data"
    }
   ],
   "source": [
    "print(sample100)\n",
    "\n",
    "#remove the outliers\n",
    "for i in range(0,100):\n",
    "    if(sample100[i] < -500000):\n",
    "        sample100[i] = -100000\n",
    "from statsmodels.graphics.gofplots import qqplot\n",
    "\n",
    "stats.probplot(sample100,sparams=(26), dist=stats.chi,  plot=plt)\n",
    "plt.title(\"ChiSquare Q-Q plot\")\n",
    "plt.show()"
   ]
  },
  {
   "cell_type": "markdown",
   "metadata": {},
   "source": [
    "### Two-Factor simulation studies\n",
    "\n",
    "Here we take Factor loadings as 2*10 matrix with two factors. \n",
    "We generate the Correlation matrix accordingly."
   ]
  },
  {
   "cell_type": "code",
   "execution_count": null,
   "metadata": {},
   "outputs": [],
   "source": [
    "#Copula factor model\n",
    "#L -> d*m\n",
    "#V ->  d*d\n",
    "#R(v) = L*L^T+ V*V.  #d*d\n",
    "\n",
    "#Taking one factor model\n",
    "L1 = np.array([[0.9, 0.9, 0.9, 0.9, 0.9, 0, 0, 0, 0, 0]])\n",
    "L1t = L1.transpose()\n",
    "L2 =  np.matrix('0.9, 0.9, 0.9, 0.9, 0.9, 0, 0, 0, 0, 0; 0, 0, 0, 0, 0, 0.9, 0.9, 0.9, 0.9, 0.9')\n",
    "#L2 = [[0.9, 0.9, 0.9, 0.9, 0.9, 0, 0, 0, 0, 0],\n",
    "#      [0, 0, 0, 0, 0, 0.9, 0.9, 0.9, 0.9, 0.9]]\n",
    "L2t = L2.transpose()\n",
    "\n",
    "dim=10\n",
    "V = np.zeros((dim, dim))\n",
    "np.fill_diagonal(V, 0.19)\n",
    "\n",
    "#Covariance matrix \n",
    "Sig = np.asarray(L2t*L2 + V)\n",
    "\n",
    "n = 50\n",
    "nu=3\n",
    "d=10\n",
    "\n",
    "r = []\n",
    "#R(V) - all non repeating elements of Covariance matrix - r\n",
    "for i in range(1,d):\n",
    "    for j in range(0, i):\n",
    "        r.append(Sig[i,j])\n",
    "        \n",
    "sample10 = []\n",
    "\n",
    "\n",
    "#Generate 100 samples for test statistic\n",
    "for i in range(0,10):\n",
    "    #Generate t3 coplua with Sig as covariance matrix\n",
    "    U = tCopula_rand(Sig, nu, d, n)\n",
    "\n",
    "    #minimize test statistic and compare it with chi-square \n",
    "    #res = minimize(D, 0, method='nelder-mead')\n",
    "    D = generateTestStatistic(U, r)\n",
    "    print(D.min())\n",
    "    sample10.append(n*D.min())\n",
    "\n",
    "    \n",
    "    \n",
    "stats.probplot(sample10,sparams=(26), dist=stats.chi,  plot=plt)\n",
    "plt.title(\"ChiSquare Q-Q plot\")\n",
    "plt.show()"
   ]
  },
  {
   "cell_type": "markdown",
   "metadata": {},
   "source": [
    "In the case of a two-factor setting, to ensure uniqueness of the loadings, we use the restriction, that $L^{T}V^{-2}L$ is diagonal: hence we have $m(m-l)/2 = 1$ additional constraints. \n",
    "\n",
    "Using this restriction and the two-factor settings, $T_{\\tau}$ should be $\\chi_{df}^{2}$ distributed with df = d(d -1)/2 - dm + m(m-1)/2 = 26 degrees of freedom."
   ]
  },
  {
   "cell_type": "code",
   "execution_count": null,
   "metadata": {},
   "outputs": [],
   "source": [
    "sample50 = []\n",
    "\n",
    "#Generate 100 samples for test statistic\n",
    "for i in range(0,50):\n",
    "    #Generate t3 coplua with Sig as covariance matrix\n",
    "    U = tCopula_rand(Sig, nu, d, n)\n",
    "\n",
    "    #minimize test statistic and compare it with chi-square \n",
    "    #res = minimize(D, 0, method='nelder-mead')\n",
    "    D = generateTestStatistic(U, r)\n",
    "    #print(D.min())\n",
    "    sample50.append(n*D.min())\n",
    "\n",
    "    \n",
    "for i in range(0,50):\n",
    "    sample50[i]=-sample50[i]\n",
    "stats.probplot(sample50,sparams=(26), dist=stats.chi,  plot=plt)\n",
    "plt.title(\"ChiSquare Q-Q plot\")\n",
    "plt.show()"
   ]
  },
  {
   "cell_type": "code",
   "execution_count": null,
   "metadata": {},
   "outputs": [],
   "source": [
    "\n",
    "for i in range(0,50):\n",
    "    sample50[i]=-sample50[i]\n",
    "    if sample50[i]>=500000:\n",
    "        sample50[i] = 200000\n",
    "stats.probplot(sample50,sparams=(26), dist=stats.chi,  plot=plt)\n",
    "plt.title(\"ChiSquare Q-Q plot\")\n",
    "plt.show()"
   ]
  },
  {
   "cell_type": "code",
   "execution_count": null,
   "metadata": {},
   "outputs": [],
   "source": [
    "#for i in range(1,50):\n",
    "#    sample50[i] = sample50[i]\n",
    "\n",
    "for i in range(0,10):\n",
    "    sample10[i]=-sample10[i]\n",
    "    if sample10[i]>=500000:\n",
    "        sample10[i] = 200000\n",
    "stats.probplot(sample10,sparams=(26), dist=stats.chi,  plot=plt)\n",
    "plt.title(\"ChiSquare Q-Q plot\")\n",
    "plt.show()\n"
   ]
  },
  {
   "cell_type": "markdown",
   "metadata": {},
   "source": [
    "For the two factor model with data size as 10, 100, the Test statistic is almost aligned with the $\\chi_{26}^{2}$ statistic. \n"
   ]
  },
  {
   "cell_type": "code",
   "execution_count": null,
   "metadata": {},
   "outputs": [],
   "source": []
  }
 ],
 "metadata": {
  "colab": {
   "collapsed_sections": [],
   "machine_shape": "hm",
   "name": "517Project.ipynb",
   "provenance": []
  },
  "kernelspec": {
   "display_name": "Python 3",
   "language": "python",
   "name": "python3"
  },
  "language_info": {
   "codemirror_mode": {
    "name": "ipython",
    "version": 3
   },
   "file_extension": ".py",
   "mimetype": "text/x-python",
   "name": "python",
   "nbconvert_exporter": "python",
   "pygments_lexer": "ipython3",
   "version": "3.7.6"
  }
 },
 "nbformat": 4,
 "nbformat_minor": 1
}
