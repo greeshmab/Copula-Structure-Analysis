{
 "cells": [
  {
   "cell_type": "markdown",
   "metadata": {},
   "source": [
    "# Stock Data \n",
    "\n",
    "We  considered  a  five-dimensional  set  of  data  (oil,  S&P  500,  usd/eur,  usd/yuan)  ,i.e.   toknow the dependence structure between oil price, the S& P 500 index and some currencyexchange rates w.r.t USD. The time series data consists of 1000 daily log-returns from May 2016 to April 2020"
   ]
  },
  {
   "cell_type": "code",
   "execution_count": 1,
   "metadata": {
    "colab": {},
    "colab_type": "code",
    "id": "IbyHLa6QdFYs",
    "scrolled": true
   },
   "outputs": [
    {
     "name": "stdout",
     "output_type": "stream",
     "text": [
      "Requirement already satisfied: seaborn in /Users/greeshmab/opt/anaconda3/lib/python3.7/site-packages (0.10.0)\n",
      "Requirement already satisfied: pandas>=0.22.0 in /Users/greeshmab/opt/anaconda3/lib/python3.7/site-packages (from seaborn) (0.24.2)\n",
      "Requirement already satisfied: numpy>=1.13.3 in /Users/greeshmab/opt/anaconda3/lib/python3.7/site-packages (from seaborn) (1.16.6)\n",
      "Requirement already satisfied: scipy>=1.0.1 in /Users/greeshmab/opt/anaconda3/lib/python3.7/site-packages (from seaborn) (1.2.3)\n",
      "Requirement already satisfied: matplotlib>=2.1.2 in /Users/greeshmab/opt/anaconda3/lib/python3.7/site-packages (from seaborn) (3.1.3)\n",
      "Requirement already satisfied: python-dateutil>=2.5.0 in /Users/greeshmab/opt/anaconda3/lib/python3.7/site-packages (from pandas>=0.22.0->seaborn) (2.8.1)\n",
      "Requirement already satisfied: pytz>=2011k in /Users/greeshmab/opt/anaconda3/lib/python3.7/site-packages (from pandas>=0.22.0->seaborn) (2019.3)\n",
      "Requirement already satisfied: pyparsing!=2.0.4,!=2.1.2,!=2.1.6,>=2.0.1 in /Users/greeshmab/opt/anaconda3/lib/python3.7/site-packages (from matplotlib>=2.1.2->seaborn) (2.4.6)\n",
      "Requirement already satisfied: kiwisolver>=1.0.1 in /Users/greeshmab/opt/anaconda3/lib/python3.7/site-packages (from matplotlib>=2.1.2->seaborn) (1.1.0)\n",
      "Requirement already satisfied: cycler>=0.10 in /Users/greeshmab/opt/anaconda3/lib/python3.7/site-packages (from matplotlib>=2.1.2->seaborn) (0.10.0)\n",
      "Requirement already satisfied: six>=1.5 in /Users/greeshmab/opt/anaconda3/lib/python3.7/site-packages (from python-dateutil>=2.5.0->pandas>=0.22.0->seaborn) (1.14.0)\n",
      "Requirement already satisfied: setuptools in /Users/greeshmab/opt/anaconda3/lib/python3.7/site-packages (from kiwisolver>=1.0.1->matplotlib>=2.1.2->seaborn) (46.0.0.post20200309)\n",
      "Requirement already satisfied: yfinance in /Users/greeshmab/opt/anaconda3/lib/python3.7/site-packages (0.1.54)\n",
      "Requirement already satisfied: requests>=2.20 in /Users/greeshmab/opt/anaconda3/lib/python3.7/site-packages (from yfinance) (2.22.0)\n",
      "Requirement already satisfied: multitasking>=0.0.7 in /Users/greeshmab/opt/anaconda3/lib/python3.7/site-packages (from yfinance) (0.0.9)\n",
      "Requirement already satisfied: numpy>=1.15 in /Users/greeshmab/opt/anaconda3/lib/python3.7/site-packages (from yfinance) (1.16.6)\n",
      "Requirement already satisfied: pandas>=0.24 in /Users/greeshmab/opt/anaconda3/lib/python3.7/site-packages (from yfinance) (0.24.2)\n",
      "Requirement already satisfied: urllib3!=1.25.0,!=1.25.1,<1.26,>=1.21.1 in /Users/greeshmab/opt/anaconda3/lib/python3.7/site-packages (from requests>=2.20->yfinance) (1.25.8)\n",
      "Requirement already satisfied: certifi>=2017.4.17 in /Users/greeshmab/opt/anaconda3/lib/python3.7/site-packages (from requests>=2.20->yfinance) (2019.11.28)\n",
      "Requirement already satisfied: idna<2.9,>=2.5 in /Users/greeshmab/opt/anaconda3/lib/python3.7/site-packages (from requests>=2.20->yfinance) (2.8)\n",
      "Requirement already satisfied: chardet<3.1.0,>=3.0.2 in /Users/greeshmab/opt/anaconda3/lib/python3.7/site-packages (from requests>=2.20->yfinance) (3.0.4)\n",
      "Requirement already satisfied: python-dateutil>=2.5.0 in /Users/greeshmab/opt/anaconda3/lib/python3.7/site-packages (from pandas>=0.24->yfinance) (2.8.1)\n",
      "Requirement already satisfied: pytz>=2011k in /Users/greeshmab/opt/anaconda3/lib/python3.7/site-packages (from pandas>=0.24->yfinance) (2019.3)\n",
      "Requirement already satisfied: six>=1.5 in /Users/greeshmab/opt/anaconda3/lib/python3.7/site-packages (from python-dateutil>=2.5.0->pandas>=0.24->yfinance) (1.14.0)\n",
      "Requirement already satisfied: matplotlib in /Users/greeshmab/opt/anaconda3/lib/python3.7/site-packages (3.1.3)\n",
      "Requirement already satisfied: cycler>=0.10 in /Users/greeshmab/opt/anaconda3/lib/python3.7/site-packages (from matplotlib) (0.10.0)\n",
      "Requirement already satisfied: pyparsing!=2.0.4,!=2.1.2,!=2.1.6,>=2.0.1 in /Users/greeshmab/opt/anaconda3/lib/python3.7/site-packages (from matplotlib) (2.4.6)\n",
      "Requirement already satisfied: kiwisolver>=1.0.1 in /Users/greeshmab/opt/anaconda3/lib/python3.7/site-packages (from matplotlib) (1.1.0)\n",
      "Requirement already satisfied: python-dateutil>=2.1 in /Users/greeshmab/opt/anaconda3/lib/python3.7/site-packages (from matplotlib) (2.8.1)\n",
      "Requirement already satisfied: numpy>=1.11 in /Users/greeshmab/opt/anaconda3/lib/python3.7/site-packages (from matplotlib) (1.16.6)\n",
      "Requirement already satisfied: six in /Users/greeshmab/opt/anaconda3/lib/python3.7/site-packages (from cycler>=0.10->matplotlib) (1.14.0)\n",
      "Requirement already satisfied: setuptools in /Users/greeshmab/opt/anaconda3/lib/python3.7/site-packages (from kiwisolver>=1.0.1->matplotlib) (46.0.0.post20200309)\n",
      "Requirement already satisfied: copulas in /Users/greeshmab/opt/anaconda3/lib/python3.7/site-packages (0.3.0)\n",
      "Requirement already satisfied: pandas<0.25,>=0.22.0 in /Users/greeshmab/opt/anaconda3/lib/python3.7/site-packages (from copulas) (0.24.2)\n",
      "Requirement already satisfied: boto3<1.10,>=1.7.47 in /Users/greeshmab/opt/anaconda3/lib/python3.7/site-packages (from copulas) (1.9.253)\n",
      "Requirement already satisfied: scipy<1.3,>=1.2 in /Users/greeshmab/opt/anaconda3/lib/python3.7/site-packages (from copulas) (1.2.3)\n",
      "Requirement already satisfied: exrex<0.11,>=0.10.5 in /Users/greeshmab/opt/anaconda3/lib/python3.7/site-packages (from copulas) (0.10.5)\n",
      "Requirement already satisfied: matplotlib<4,>=2.2.2 in /Users/greeshmab/opt/anaconda3/lib/python3.7/site-packages (from copulas) (3.1.3)\n",
      "Requirement already satisfied: docutils<0.15,>=0.10 in /Users/greeshmab/opt/anaconda3/lib/python3.7/site-packages (from copulas) (0.14)\n",
      "Requirement already satisfied: numpy<1.17,>=1.13.1 in /Users/greeshmab/opt/anaconda3/lib/python3.7/site-packages (from copulas) (1.16.6)\n",
      "Requirement already satisfied: pytz>=2011k in /Users/greeshmab/opt/anaconda3/lib/python3.7/site-packages (from pandas<0.25,>=0.22.0->copulas) (2019.3)\n",
      "Requirement already satisfied: python-dateutil>=2.5.0 in /Users/greeshmab/opt/anaconda3/lib/python3.7/site-packages (from pandas<0.25,>=0.22.0->copulas) (2.8.1)\n",
      "Requirement already satisfied: s3transfer<0.3.0,>=0.2.0 in /Users/greeshmab/opt/anaconda3/lib/python3.7/site-packages (from boto3<1.10,>=1.7.47->copulas) (0.2.1)\n",
      "Requirement already satisfied: botocore<1.13.0,>=1.12.253 in /Users/greeshmab/opt/anaconda3/lib/python3.7/site-packages (from boto3<1.10,>=1.7.47->copulas) (1.12.253)\n",
      "Requirement already satisfied: jmespath<1.0.0,>=0.7.1 in /Users/greeshmab/opt/anaconda3/lib/python3.7/site-packages (from boto3<1.10,>=1.7.47->copulas) (0.9.5)\n",
      "Requirement already satisfied: kiwisolver>=1.0.1 in /Users/greeshmab/opt/anaconda3/lib/python3.7/site-packages (from matplotlib<4,>=2.2.2->copulas) (1.1.0)\n",
      "Requirement already satisfied: pyparsing!=2.0.4,!=2.1.2,!=2.1.6,>=2.0.1 in /Users/greeshmab/opt/anaconda3/lib/python3.7/site-packages (from matplotlib<4,>=2.2.2->copulas) (2.4.6)\n",
      "Requirement already satisfied: cycler>=0.10 in /Users/greeshmab/opt/anaconda3/lib/python3.7/site-packages (from matplotlib<4,>=2.2.2->copulas) (0.10.0)\n",
      "Requirement already satisfied: six>=1.5 in /Users/greeshmab/opt/anaconda3/lib/python3.7/site-packages (from python-dateutil>=2.5.0->pandas<0.25,>=0.22.0->copulas) (1.14.0)\n",
      "Requirement already satisfied: urllib3<1.26,>=1.20; python_version >= \"3.4\" in /Users/greeshmab/opt/anaconda3/lib/python3.7/site-packages (from botocore<1.13.0,>=1.12.253->boto3<1.10,>=1.7.47->copulas) (1.25.8)\n",
      "Requirement already satisfied: setuptools in /Users/greeshmab/opt/anaconda3/lib/python3.7/site-packages (from kiwisolver>=1.0.1->matplotlib<4,>=2.2.2->copulas) (46.0.0.post20200309)\n",
      "Requirement already satisfied: ambhas in /Users/greeshmab/opt/anaconda3/lib/python3.7/site-packages (0.4.0)\n",
      "Requirement already satisfied: numpy in /Users/greeshmab/opt/anaconda3/lib/python3.7/site-packages (from ambhas) (1.16.6)\n",
      "Requirement already satisfied: scipy in /Users/greeshmab/opt/anaconda3/lib/python3.7/site-packages (from ambhas) (1.2.3)\n",
      "Requirement already satisfied: copulae in /Users/greeshmab/opt/anaconda3/lib/python3.7/site-packages (0.5.2)\n",
      "Requirement already satisfied: numpy>=1.15 in /Users/greeshmab/opt/anaconda3/lib/python3.7/site-packages (from copulae) (1.16.6)\n",
      "Requirement already satisfied: scipy>=1.1 in /Users/greeshmab/opt/anaconda3/lib/python3.7/site-packages (from copulae) (1.2.3)\n",
      "Requirement already satisfied: statsmodels>=0.9 in /Users/greeshmab/opt/anaconda3/lib/python3.7/site-packages (from copulae) (0.11.0)\n",
      "Requirement already satisfied: pandas>=0.23 in /Users/greeshmab/opt/anaconda3/lib/python3.7/site-packages (from copulae) (0.24.2)\n",
      "Requirement already satisfied: patsy>=0.5 in /Users/greeshmab/opt/anaconda3/lib/python3.7/site-packages (from statsmodels>=0.9->copulae) (0.5.1)\n",
      "Requirement already satisfied: python-dateutil>=2.5.0 in /Users/greeshmab/opt/anaconda3/lib/python3.7/site-packages (from pandas>=0.23->copulae) (2.8.1)\n",
      "Requirement already satisfied: pytz>=2011k in /Users/greeshmab/opt/anaconda3/lib/python3.7/site-packages (from pandas>=0.23->copulae) (2019.3)\n"
     ]
    },
    {
     "name": "stdout",
     "output_type": "stream",
     "text": [
      "Requirement already satisfied: six in /Users/greeshmab/opt/anaconda3/lib/python3.7/site-packages (from patsy>=0.5->statsmodels>=0.9->copulae) (1.14.0)\n",
      "Requirement already satisfied: factor_analyzer in /Users/greeshmab/opt/anaconda3/lib/python3.7/site-packages (0.3.2)\n",
      "Requirement already satisfied: pandas in /Users/greeshmab/opt/anaconda3/lib/python3.7/site-packages (from factor_analyzer) (0.24.2)\n",
      "Requirement already satisfied: scipy in /Users/greeshmab/opt/anaconda3/lib/python3.7/site-packages (from factor_analyzer) (1.2.3)\n",
      "Requirement already satisfied: numpy in /Users/greeshmab/opt/anaconda3/lib/python3.7/site-packages (from factor_analyzer) (1.16.6)\n",
      "Requirement already satisfied: scikit-learn in /Users/greeshmab/opt/anaconda3/lib/python3.7/site-packages (from factor_analyzer) (0.22.1)\n",
      "Requirement already satisfied: python-dateutil>=2.5.0 in /Users/greeshmab/opt/anaconda3/lib/python3.7/site-packages (from pandas->factor_analyzer) (2.8.1)\n",
      "Requirement already satisfied: pytz>=2011k in /Users/greeshmab/opt/anaconda3/lib/python3.7/site-packages (from pandas->factor_analyzer) (2019.3)\n",
      "Requirement already satisfied: joblib>=0.11 in /Users/greeshmab/opt/anaconda3/lib/python3.7/site-packages (from scikit-learn->factor_analyzer) (0.14.1)\n",
      "Requirement already satisfied: six>=1.5 in /Users/greeshmab/opt/anaconda3/lib/python3.7/site-packages (from python-dateutil>=2.5.0->pandas->factor_analyzer) (1.14.0)\n"
     ]
    }
   ],
   "source": [
    "!pip install seaborn\n",
    "!pip install yfinance\n",
    "!pip install matplotlib\n",
    "!pip install copulas\n",
    "!pip install ambhas\n",
    "!pip install copulae\n",
    "!pip install factor_analyzer"
   ]
  },
  {
   "cell_type": "code",
   "execution_count": 2,
   "metadata": {
    "colab": {},
    "colab_type": "code",
    "id": "B8-rRyhXi3p6"
   },
   "outputs": [],
   "source": [
    "import numpy as np\n",
    "import pandas as pd\n",
    "import matplotlib.pyplot as plt\n",
    "import scipy.stats as stats\n",
    "from scipy.stats import invgamma, chi2, t\n",
    "import math\n",
    "import yfinance as yf\n",
    "import seaborn\n",
    "import seaborn as sns; sns.set()\n",
    "from pandas.plotting import register_matplotlib_converters\n",
    "register_matplotlib_converters()\n",
    "from sklearn.datasets import load_iris\n",
    "from factor_analyzer import FactorAnalyzer\n",
    "import matplotlib.pyplot as plt\n",
    "from scipy.optimize import fmin\n",
    "from scipy.optimize import minimize\n"
   ]
  },
  {
   "cell_type": "markdown",
   "metadata": {},
   "source": [
    "### Generating Test statistic "
   ]
  },
  {
   "cell_type": "code",
   "execution_count": 3,
   "metadata": {
    "colab": {},
    "colab_type": "code",
    "id": "I5AkhOAQmaRN"
   },
   "outputs": [],
   "source": [
    "# Defines required functions \n",
    "\n",
    "# Student T distribution Multivariate random function\n",
    "# Sig - Covariance Matrix for T copula\n",
    "# df - degrees of freedom for T copula\n",
    "# Size - No of samples to be generated\n",
    "def tMultivariate_rand(Sig, df, size):\n",
    "    (m,n) = Sig.shape\n",
    "    s = np.diag(Sig)\n",
    "    s_not_1 = s != 1\n",
    "    if any(s_not_1):\n",
    "        Sig = Sig/np.sqrt(s*s.T)\n",
    "    T = np.linalg.cholesky(Sig)\n",
    "        \n",
    "    ra = np.dot(np.random.randn(size,len(T)),T)\n",
    "    x = np.sqrt(nu/chi2.rvs(df, size=size)[:, np.newaxis])\n",
    "    ra = ra*x    # No need the ./x(:,ones(n,1)) as Python does elem by elem operations\n",
    "    if(df>2):\n",
    "        ra=ra*(df/(df-2))\n",
    "    return ra\n",
    "\n",
    "# This function generates random Student T Copula \n",
    "def tCopula_rand(Rho, nu, d, n):\n",
    "    multiVar = tMultivariate_rand(Rho, d, n)\n",
    "    u = stats.t.cdf(multiVar,nu)\n",
    "    return u\n",
    "\n",
    "# takes i,j and returns index of it in the vectorize function\n",
    "# is used in correlation estimator matrix\n",
    "def indexMappingFunc(i, j):\n",
    "    index = -1\n",
    "    for k in range(1,i):\n",
    "        for l in range(0,k):\n",
    "            index = index+1\n",
    "        \n",
    "    for m in range(0,j+1):\n",
    "        index = index+1\n",
    "    return index\n",
    "\n",
    "# for given i, j get kendalls tau value\n",
    "def kendalls_tau(U, i, j, k, l):\n",
    "    n,d = U.shape\n",
    "    snij = 0\n",
    "    snkl = 0\n",
    "    snijkl = 0 \n",
    "    for p in range(0, n-1):\n",
    "        for q in range(0,p-1):\n",
    "            snij = snij + np.sign((U[p][i]-U[q][i])*(U[p][j]-U[q][j]))\n",
    "            snkl = snkl + np.sign((U[p][k]-U[q][k])*(U[p][l]-U[q][l]))\n",
    "        snijkl = snijkl + (snij*snkl)\n",
    "\n",
    "    snijkl = (snijkl/(n*(n-1)*(n-1)))\n",
    "    snij = ((snij*2)/(n*(n-1)))\n",
    "    snkl = ((snkl*2)/(n*(n-1)))\n",
    "    return snij, snkl, snijkl\n",
    "\n",
    "# Given a multivariate Copula matrix\n",
    "# Generates kendalls estimators\n",
    "def Kendalls_estimators(U):\n",
    "    n,d = U.shape\n",
    "    t = np.identity(d)\n",
    "    dim = int((d*(d-1)/2))\n",
    "    T = np.identity(dim)\n",
    "    snij = 0 \n",
    "    snkl = 0\n",
    "    snijkl = 0\n",
    "    for i in range(1,d):\n",
    "        for j in range(0,i):\n",
    "            for k in range(1,d):\n",
    "                for l in range(0,k):\n",
    "                    snij, snkl, snijkl = kendalls_tau(U, i, j, k, l)\n",
    "                    #print(i, j , k , l)\n",
    "                    t[i][j] = snij\n",
    "                    t[j][i] = snij\n",
    "                    t[k][l] = snkl\n",
    "                    t[l][k] = snkl\n",
    "                    a = indexMappingFunc(i,j)\n",
    "                    b = indexMappingFunc(k,l)\n",
    "                    T[a][b] = snijkl\n",
    "                    T[b][a] = snijkl\n",
    "    return t, T\n",
    "\n",
    "#Vectorize the correlation matrix to a vector with non repeating elements\n",
    "def vectorize(C):\n",
    "    n,n = C.shape\n",
    "    vec = []\n",
    "    for i in range(1,n):\n",
    "        for j in range(0,i):\n",
    "            vec.append(C[i][j])\n",
    "    return vec\n",
    "\n",
    "#Devectorizes a vector to the correlation matrix with non repeating elements\n",
    "def devectorize(arr):\n",
    "    n = len(arr)\n",
    "    d = int(np.sqrt(n*2))+1\n",
    "    C = np.identity(d)\n",
    "    c = 0 \n",
    "    for i in range(1,d):\n",
    "        for j in range(0,i):\n",
    "            C[i][j] = arr[c]\n",
    "            C[j][i] = arr[c]\n",
    "            c = c+1\n",
    "    return C\n",
    "\n",
    "#Generate Kendalls T matrix estimate\n",
    "#Returns a matrix\n",
    "def Kendalls_tau_matrix(T, t, d):\n",
    "    n, n = T.shape\n",
    "    Testimate = np.identity(n)\n",
    "    for i in range(1,d):\n",
    "        for j in range(0,i):\n",
    "            for k in range(1,d):\n",
    "                for l in range(0,k):\n",
    "                    a = indexMappingFunc(i,j)\n",
    "                    b = indexMappingFunc(k,l)\n",
    "                    #print(i,j,k,l,a,b)\n",
    "                    Tval = T[a][b]\n",
    "                    stat = (math.pi*math.pi)*math.cos(math.pi*float(t[i][j])*0.5)*math.cos(math.pi*float(t[k][l])*0.5)*(Tval - t[i][j]*t[k][l])\n",
    "                    Testimate[a][b] = stat\n",
    "                    Testimate[b][a] = stat\n",
    "                    \n",
    "    return Testimate\n",
    "\n",
    "\n",
    "def generateTestStatisticTau(U):\n",
    "    #Estimate kendalls tau and Kendalls estimator matrix\n",
    "    #t -> Kendalls tau matrix\n",
    "    #T -> Kendalls Tau based correlation estimator\n",
    "    t, T = Kendalls_estimators(U)\n",
    "    d, d = t.shape \n",
    "    # Calculate the optimized test statistic\n",
    "    # the Kendalls tau related correlation estimator\n",
    "    # r = sin(pi/2*T) where T is kendals tau matrix\n",
    "    tvec = vectorize(t)\n",
    "    RTau = [(math.pi)*float(i)*0.5 for i in tvec] \n",
    "    #RTau = math.sin((math.pi/2)*float(tvec))\n",
    "    \n",
    "    Testimate = Kendalls_tau_matrix(T, t, d)\n",
    "    TestInv = np.linalg.inv(Testimate)\n",
    "    # Quadratic descrepancy function\n",
    "    # D = ((r-RTau)^T)*(T^-1)*(r-RTau)\n",
    "    #print(len(r))\n",
    "\n",
    "    return RTau, TestInv\n",
    "\n",
    "def generateTestStatisticRho(U, r):\n",
    "    #Estimate kendalls tau and Kendalls estimator matrix\n",
    "    #t -> Kendalls tau matrix\n",
    "    #T -> Kendalls Tau based correlation estimator\n",
    "    t, T = Kendalls_estimators(U)\n",
    "    d, d = t.shape \n",
    "    # Calculate the optimized test statistic\n",
    "    # the Kendalls tau related correlation estimator\n",
    "    # r = sin(pi/2*T) where T is kendals tau matrix\n",
    "    tvec = vectorize(t)\n",
    "    RTau = [(math.pi)*float(i)*0.5 for i in tvec] \n",
    "    #RTau = math.sin((math.pi/2)*float(tvec))\n",
    "    \n",
    "    Testimate = Kendalls_tau_matrix(T, t, d)\n",
    "    TestInv = np.linalg.inv(Testimate)\n",
    "    # Quadratic descrepancy function\n",
    "    # D = ((r-RTau)^T)*(T^-1)*(r-RTau)\n",
    "    #print(len(r))\n",
    "\n",
    "    return r, TestInv\n",
    "\n",
    "\n",
    "def optimfunction(RTau, TestInv, rinit):\n",
    "    #if simulation - use r, otherwise r[i] - variable\n",
    "    \n",
    "    diff = np.array([rinit[i]-RTau[i] for i in range(0,len(rinit))])\n",
    "    return ((diff).transpose()*TestInv*(diff)).min()\n",
    "    "
   ]
  },
  {
   "cell_type": "markdown",
   "metadata": {},
   "source": [
    "### Stock Data \n",
    "\n",
    "We  considered  a  five-dimensional  set  of  data  (oil,  S&P  500,  usd/eur,  usd/yuan). \n",
    "Download the corresponding data from yahoo finance and get the log returns.\n",
    "Each security's data is downloade and plotted to understand the patterns in the last 5 years. "
   ]
  },
  {
   "cell_type": "code",
   "execution_count": 4,
   "metadata": {
    "colab": {
     "base_uri": "https://localhost:8080/",
     "height": 548
    },
    "colab_type": "code",
    "id": "Wy6SAuk6HqHG",
    "outputId": "5037b021-3b0d-401a-9e4e-ae0dc1daf5fa"
   },
   "outputs": [
    {
     "name": "stderr",
     "output_type": "stream",
     "text": [
      "/Users/greeshmab/opt/anaconda3/lib/python3.7/site-packages/ipykernel_launcher.py:9: RuntimeWarning: invalid value encountered in log\n",
      "  if __name__ == '__main__':\n"
     ]
    }
   ],
   "source": [
    "import matplotlib.pyplot as plt\n",
    "\n",
    "# Get real data for oil, S&P500, eur and usd\n",
    "\n",
    "#Oil Prices\n",
    "oilt = yf.Ticker(\"CL=F\")\n",
    "#print(oilt.info)\n",
    "oilC = oilt.history(period=\"1500d\")['Close'].pct_change()\n",
    "oilLog = np.log(1+oilC).to_frame()\n",
    "\n",
    "#S&P500\n",
    "SnP500t = yf.Ticker(\"^GSPC\")\n",
    "#print(SnP500t.info)\n",
    "SnP500C = SnP500t.history(period=\"1500d\")['Close'].pct_change()\n",
    "SnP500Log = np.log(1+SnP500C).to_frame()\n",
    "\n",
    "\n",
    "#USD/EUR Exchange rate\n",
    "UsdEurt = yf.Ticker(\"USDEUR=X\")\n",
    "#print(UsdEurt.info)\n",
    "UsdEurC = UsdEurt.history(period=\"1500d\")['Close'].pct_change()\n",
    "UsdEurLog = np.log(1+UsdEurC).to_frame()\n",
    "\n",
    "#Gold Prices\n",
    "Goldt = yf.Ticker(\"GC=F\")\n",
    "#print(Goldt.info)\n",
    "GoldC = Goldt.history(period=\"1500d\")['Close'].pct_change()\n",
    "GoldLog = np.log(1+GoldC).to_frame()\n",
    "\n",
    "#USD Yuan exchange rate\n",
    "UsdYuant = yf.Ticker(\"USDCNY=X\")\n",
    "#print(UsdYuant.info)\n",
    "UsdYuanC = UsdYuant.history(period=\"1500d\")['Close'].pct_change()\n",
    "UsdYuanLog = np.log(1+UsdYuanC).to_frame()\n"
   ]
  },
  {
   "cell_type": "markdown",
   "metadata": {},
   "source": [
    "The data downloaded for each security is then converted into Dataframe in order to process. \n",
    "All the missing data with values NA is removed i.e all the data for 5 securities for the date on which the data is missing is deleted. \n",
    "\n",
    "We plotted data for last 3 months to understand COVID 19 effect. It can be clearly noticed that Gold is bullish where as oil and market are down. There aren't any significant pattern in exchange rates since all the major economies are affected similarly due to this pandemic. "
   ]
  },
  {
   "cell_type": "code",
   "execution_count": 5,
   "metadata": {
    "colab": {
     "base_uri": "https://localhost:8080/",
     "height": 232
    },
    "colab_type": "code",
    "id": "U7t8Ytxf15FP",
    "outputId": "e8739d48-b515-4561-8f96-a89dd2f97607"
   },
   "outputs": [
    {
     "name": "stdout",
     "output_type": "stream",
     "text": [
      "(1002, 5)\n"
     ]
    },
    {
     "data": {
      "image/png": "[encoded data removed]",
      "text/plain": [
       "<Figure size 432x288 with 1 Axes>"
      ]
     },
     "metadata": {},
     "output_type": "display_data"
    },
    {
     "data": {
      "text/plain": [
       "<Figure size 432x288 with 0 Axes>"
      ]
     },
     "metadata": {},
     "output_type": "display_data"
    },
    {
     "data": {
      "image/png": "[encoded data removed]",
      "text/plain": [
       "<Figure size 432x288 with 1 Axes>"
      ]
     },
     "metadata": {},
     "output_type": "display_data"
    }
   ],
   "source": [
    "#Data is missing for some dates - hence merge it by date as key\n",
    "df = pd.concat([oilLog['Close'], SnP500Log['Close'], UsdEurLog['Close'], GoldLog['Close'], UsdYuanLog['Close']], axis=1)\n",
    "# Drop NA values\n",
    "df.dropna(inplace = True) \n",
    "#Returns (1223, 5)\n",
    "#Removing 223 days to get matrix of size 1000\n",
    "dfa = df.iloc[223:]\n",
    "dfa.columns = ['oil', 'SnP500', 'Usd/Eur', 'Gold', 'Usd/Yuan']\n",
    "#Convert the data into matrix for the analysis\n",
    "retDf = dfa.to_numpy()\n",
    "\n",
    "print(retDf.shape)  #Returns (1000, 5)\n",
    "#print(dfa.head)\n",
    "\n",
    "dfarecent = dfa[:][950:]\n",
    "\n",
    "plt.plot(dfa['oil'], '-b', label='oil')\n",
    "plt.plot(dfa['SnP500'], '-r', label='SnP')\n",
    "plt.plot(dfa['Usd/Eur'],'-g', label='Usd/Eur')\n",
    "plt.plot(dfa['Gold'], '-y', label='Gold')\n",
    "plt.plot(dfa['Usd/Yuan'], '-p', label='Usd/Yuan')\n",
    "fig = plt.figure()\n",
    "(dfarecent + 1).cumprod().plot()\n",
    "plt.show()\n"
   ]
  },
  {
   "cell_type": "markdown",
   "metadata": {},
   "source": [
    "### Goodness of Fit test\n",
    "Before we apply our method to real life data, we must either verify or falsifying the assumption of an elliptical copula. For the parametric tests dependence structure of a data set is really app Information criteria, such as Akaike's informa about the power of the decision rule that is em been suggested by various researchers and we (2007) for discussions of existing methods. We tried to fit both normal and t-copula for the whole data set and tested goodness of fitGoodness of fit is done using Parametric bootstrap goodness-of-fit test with Kendall KStest and normal copula and t copula."
   ]
  },
  {
   "cell_type": "code",
   "execution_count": 6,
   "metadata": {
    "colab": {},
    "colab_type": "code",
    "id": "0uVfTVViH1NT"
   },
   "outputs": [
    {
     "name": "stdout",
     "output_type": "stream",
     "text": [
      "Gaussian Copula Summary\n",
      "================================================================================\n",
      "Gaussian Copula with 5 dimensions\n",
      "\n",
      "\n",
      "Parameters\n",
      "--------------------------------------------------------------------------------\n",
      " Correlation Matrix \n",
      " 1.000000  0.134054 -0.012386  0.083699  0.000792\n",
      " 0.134054  1.000000 -0.057918 -0.126398 -0.010113\n",
      "-0.012386 -0.057918  1.000000 -0.033851  0.363483\n",
      " 0.083699 -0.126398 -0.033851  1.000000 -0.014861\n",
      " 0.000792 -0.010113  0.363483 -0.014861  1.000000\n",
      "\n",
      "\n",
      "\n",
      "                                  Fit Summary                                   \n",
      "================================================================================\n",
      "Log. Likelihood      : -94.1307355870704\n",
      "Variance Estimate    : Not Implemented Yet\n",
      "Method               : Maximum pseudo-likelihood\n",
      "Data Points          : 1002\n",
      "\n",
      "Optimization Setup\n",
      "--------------------------------------------------------------------------------\n",
      "\tbounds         : [(-1.000001, 1.000001), (-1.000001, 1.000001), (-1.000001, 1.000001), (-1.000001, 1.000001), (-1.000001, 1.000001), (-1.000001, 1.000001), (-1.000001, 1.000001), (-1.000001, 1.000001), (-1.000001, 1.000001), (-1.000001, 1.000001)]\n",
      "\toptions        : {'maxiter': 20000, 'ftol': 1e-06, 'iprint': 1, 'disp': False, 'eps': 1.5e-08}\n",
      "\tmethod         : SLSQP\n",
      "\n",
      "Results\n",
      "--------------------------------------------------------------------------------\n",
      "\tx              : [ 0.13405411 -0.01238593  0.08369944  0.00079229 -0.05791786 -0.12639838\n",
      " -0.01011319 -0.03385062  0.36348308 -0.01486095]\n",
      "\tfun            : -94.1307355870704\n",
      "\tjac            : [ 0.0002558  -0.00040359 -0.00048885  0.00067359  0.00055328 -0.00049738\n",
      " -0.00116434 -0.00041117 -0.00016295  0.00082802]\n",
      "\tnit            : 14\n",
      "\tnfev           : 194\n",
      "\tnjev           : 14\n",
      "\tstatus         : 0\n",
      "\tmessage        : Optimization terminated successfully.\n",
      "\tsuccess        : True\n",
      "\n"
     ]
    }
   ],
   "source": [
    "from copulae import NormalCopula\n",
    "from copulae import TCopula\n",
    "import numpy as np\n",
    "\n",
    "np.random.seed(8)\n",
    "#data = np.random.normal(size=(300, 8))\n",
    "cop = NormalCopula(5)\n",
    "cop.fit(retDf)\n",
    "\n",
    "cop.random(10)  # simulate random number\n",
    "\n",
    "# getting parameters\n",
    "p = cop.params\n",
    "# cop.params = ...  # you can override parameters too, even after it's fitted!  \n",
    "\n",
    "# get a summary of the copula. If it's fitted, fit details will be present too\n",
    "print(cop.summary())\n",
    "\n",
    "# overriding parameters, for Elliptical Copulae, you can override the correlation matrix\n",
    "cop[:] = np.eye(8)  # in this case, this will be equivalent to an Independent Copula"
   ]
  },
  {
   "cell_type": "code",
   "execution_count": 7,
   "metadata": {},
   "outputs": [
    {
     "name": "stdout",
     "output_type": "stream",
     "text": [
      "Student Copula Summary\n",
      "================================================================================\n",
      "Student Copula with 5 dimensions\n",
      "\n",
      "\n",
      "Parameters\n",
      "--------------------------------------------------------------------------------\n",
      " Degree of Freedom  : 8.223078185479086\n",
      "\n",
      " Correlation Matrix \n",
      " 1.000000  0.188386 -0.014565  0.075615  0.012343\n",
      " 0.188386  1.000000 -0.050432 -0.126084 -0.033721\n",
      "-0.014565 -0.050432  1.000000 -0.030203  0.359785\n",
      " 0.075615 -0.126084 -0.030203  1.000000 -0.003216\n",
      " 0.012343 -0.033721  0.359785 -0.003216  1.000000\n",
      "\n",
      "\n",
      "\n",
      "                                  Fit Summary                                   \n",
      "================================================================================\n",
      "Log. Likelihood      : -149.52314045577384\n",
      "Variance Estimate    : Not Implemented Yet\n",
      "Method               : Maximum pseudo-likelihood\n",
      "Data Points          : 1002\n",
      "\n",
      "Optimization Setup\n",
      "--------------------------------------------------------------------------------\n",
      "\tbounds         : [(0.0, inf), (-1.000001, 1.000001), (-1.000001, 1.000001), (-1.000001, 1.000001), (-1.000001, 1.000001), (-1.000001, 1.000001), (-1.000001, 1.000001), (-1.000001, 1.000001), (-1.000001, 1.000001), (-1.000001, 1.000001), (-1.000001, 1.000001)]\n",
      "\toptions        : {'maxiter': 20000, 'ftol': 1e-06, 'iprint': 1, 'disp': False, 'eps': 1.5e-08}\n",
      "\tmethod         : SLSQP\n",
      "\n",
      "Results\n",
      "--------------------------------------------------------------------------------\n",
      "\tx              : [ 8.22307819e+00  1.88386191e-01 -1.45649172e-02  7.56149233e-02\n",
      "  1.23427246e-02 -5.04317970e-02 -1.26084058e-01 -3.37213237e-02\n",
      " -3.02027442e-02  3.59784582e-01 -3.21592214e-03]\n",
      "\tfun            : -149.52314045577384\n",
      "\tjac            : [ 0.00023116 -0.00317944  0.00221689 -0.00020464 -0.00289712 -0.00226047\n",
      "  0.00022358  0.00283838  0.00150635 -0.00346366  0.00019706]\n",
      "\tnit            : 18\n",
      "\tnfev           : 262\n",
      "\tnjev           : 18\n",
      "\tstatus         : 0\n",
      "\tmessage        : Optimization terminated successfully.\n",
      "\tsuccess        : True\n",
      "\n"
     ]
    }
   ],
   "source": [
    "np.random.seed(8)\n",
    "#data = np.random.normal(size=(300, 8))\n",
    "cop = TCopula(5)\n",
    "cop.fit(retDf)\n",
    "\n",
    "cop.random(10)  # simulate random number\n",
    "\n",
    "# getting parameters\n",
    "p = cop.params\n",
    "# cop.params = ...  # you can override parameters too, even after it's fitted!  \n",
    "\n",
    "# get a summary of the copula. If it's fitted, fit details will be present too\n",
    "print(cop.summary())\n",
    "\n",
    "# overriding parameters, for Elliptical Copulae, you can override the correlation matrix\n",
    "cop[:] = np.eye(8)  # in this case, this will be equivalent to an Independent Copula"
   ]
  },
  {
   "cell_type": "code",
   "execution_count": 8,
   "metadata": {
    "scrolled": true
   },
   "outputs": [],
   "source": [
    "from factor_analyzer.factor_analyzer import calculate_kmo\n",
    "from sklearn import decomposition\n",
    "from sklearn.decomposition import FactorAnalysis\n",
    "from scipy.stats import pearsonr\n",
    "import pandas as pd\n"
   ]
  },
  {
   "cell_type": "markdown",
   "metadata": {},
   "source": [
    "### Test Statistic Calculations\n",
    "In order to calculate the optimal min value of test statistic, we used python SciPyoptimize and fmin() function. It uses a Nelder-Mead simplex algorithm to find theminimum of function of one or more variables.•For the initial value, we used Factor Analysis from sklearn.  decomposition FactorAnalysis which is a simple linear generative model with Gaussian Latent Variables."
   ]
  },
  {
   "cell_type": "code",
   "execution_count": 9,
   "metadata": {},
   "outputs": [
    {
     "name": "stdout",
     "output_type": "stream",
     "text": [
      "Eigen values are :\n",
      "[1.36185594 1.17395184 0.96206576 0.87021357 0.63191289]\n",
      "Corellation matrix is: \n",
      "               oil    SnP500   Usd/Eur      Gold  Usd/Yuan\n",
      "oil       1.000000 -0.093590  0.020592  0.114331 -0.010169\n",
      "SnP500   -0.093590  1.000000 -0.068356 -0.045525  0.037782\n",
      "Usd/Eur   0.020592 -0.068356  1.000000 -0.055147  0.350542\n",
      "Gold      0.114331 -0.045525 -0.055147  1.000000 -0.032148\n",
      "Usd/Yuan -0.010169  0.037782  0.350542 -0.032148  1.000000\n",
      "(1002, 5)\n"
     ]
    }
   ],
   "source": [
    "fa = FactorAnalyzer()\n",
    "fa.fit(retDf)\n",
    "#fa.analyze(df, 25, rotation=None)\n",
    "# Check Eigenvalues\n",
    "ev, v = fa.get_eigenvalues()\n",
    "print(\"Eigen values are :\")\n",
    "print(ev)\n",
    "\n",
    "\n",
    "print(\"Corellation matrix is: \")\n",
    "#Sklearn function does not standarize your data while R facanal() does\n",
    "r = dfa.corr(method='pearson')\n",
    "\n",
    "print(r)\n",
    "print(retDf.shape)\n"
   ]
  },
  {
   "cell_type": "code",
   "execution_count": 10,
   "metadata": {},
   "outputs": [
    {
     "name": "stderr",
     "output_type": "stream",
     "text": [
      "/Users/greeshmab/opt/anaconda3/lib/python3.7/site-packages/ipykernel_launcher.py:7: FutureWarning: Method .as_matrix will be removed in a future version. Use .values instead.\n",
      "  import sys\n"
     ]
    },
    {
     "name": "stdout",
     "output_type": "stream",
     "text": [
      "10\n",
      "10\n",
      "(10, 10)\n",
      "T tau value is\n",
      "9.039817759341588\n",
      "T rho value is\n",
      "7.813051044949247\n"
     ]
    }
   ],
   "source": [
    "factor = decomposition.FactorAnalysis(n_components=2)\n",
    "factor.fit(retDf)\n",
    "L = factor.components_\n",
    "R = L.transpose().dot(L)\n",
    "\n",
    "#Rvec is the vectorized version of correlation matrix\n",
    "rvec = vectorize(r.as_matrix())\n",
    "\n",
    "#rinit is the inintializer of loadings that are derived from standard factor analysis\n",
    "#using  sklearn.decomposition import FactorAnalysis\n",
    "\n",
    "rinit = vectorize(R)\n",
    "Rtau, Testinv = generateTestStatisticTau(retDf)\n",
    "\n",
    "RRho, Testinv = generateTestStatisticRho(retDf, rvec)\n",
    "\n",
    "#Use optim function to minimize the T statistic and optimize the R(v) values\n",
    "#We get factor loadings by building back R matrix and doing choleskey decomposition\n",
    "\n",
    "print(len(Rtau))\n",
    "print(len(rvec))\n",
    "print(Testinv.shape)\n",
    "\n",
    "print(\"T tau value is\")\n",
    "print(-1000*optimfunction(Rtau, Testinv, rinit))\n",
    "\n",
    "restau = fmin(optimfunction, rinit, args=(Rtau, Testinv), full_output=True,disp=False)\n",
    " \n",
    "print(\"T rho value is\")\n",
    "\n",
    "\n",
    "print(-1000*optimfunction(rvec, Testinv, rinit))\n",
    "\n",
    "resrho = fmin(optimfunction, rinit, args=(rvec, Testinv), full_output=True,disp=False)"
   ]
  },
  {
   "cell_type": "markdown",
   "metadata": {},
   "source": []
  },
  {
   "cell_type": "code",
   "execution_count": 11,
   "metadata": {},
   "outputs": [
    {
     "name": "stdout",
     "output_type": "stream",
     "text": [
      "(array([-4.31133600e-05,  3.91897053e-06, -2.80073395e-06,  3.16307833e-05,\n",
      "       -5.93361490e-06, -1.83784998e-06, -2.21627370e-06, -3.70247077e-07,\n",
      "        4.36199603e-06, -1.28794459e-06]), -0.0012430295172522223, 1, 11, 0)\n",
      "(array([-4.31133600e-05,  3.91897053e-06, -2.80073395e-06,  3.16307833e-05,\n",
      "       -5.93361490e-06, -1.92974248e-06, -2.21627370e-06, -3.52616264e-07,\n",
      "        4.36199603e-06, -1.28794459e-06]), -0.002152727500441127, 1, 11, 0)\n",
      "[[ 1.00000000e+00  0.00000000e+00  0.00000000e+00  0.00000000e+00\n",
      "   0.00000000e+00]\n",
      " [-4.31133600e-05  9.99999999e-01  0.00000000e+00  0.00000000e+00\n",
      "   0.00000000e+00]\n",
      " [ 3.91897053e-06 -2.80056499e-06  1.00000000e+00  0.00000000e+00\n",
      "   0.00000000e+00]\n",
      " [ 3.16307833e-05 -5.93225120e-06 -1.83799056e-06  9.99999999e-01\n",
      "   0.00000000e+00]\n",
      " [-2.21627370e-06 -3.70342628e-07  4.36200367e-06 -1.28786867e-06\n",
      "   1.00000000e+00]]\n"
     ]
    }
   ],
   "source": [
    "print(restau)\n",
    "print(resrho)\n",
    "\n",
    "LLt = devectorize(restau[0])\n",
    "L = np.linalg.cholesky(LLt)\n",
    "print(L)"
   ]
  },
  {
   "cell_type": "code",
   "execution_count": 12,
   "metadata": {},
   "outputs": [
    {
     "name": "stderr",
     "output_type": "stream",
     "text": [
      "/Users/greeshmab/opt/anaconda3/lib/python3.7/site-packages/ipykernel_launcher.py:7: FutureWarning: Method .as_matrix will be removed in a future version. Use .values instead.\n",
      "  import sys\n"
     ]
    },
    {
     "name": "stdout",
     "output_type": "stream",
     "text": [
      "10\n",
      "10\n",
      "(10, 10)\n",
      "T tau value is\n",
      "9.039816973853851\n",
      "T rho value is\n",
      "7.813050314702046\n"
     ]
    }
   ],
   "source": [
    "factor = decomposition.FactorAnalysis(n_components=3)\n",
    "factor.fit(retDf)\n",
    "L = factor.components_\n",
    "R = L.transpose().dot(L)\n",
    "\n",
    "#Rvec is the vectorized version of correlation matrix\n",
    "rvec = vectorize(r.as_matrix())\n",
    "\n",
    "#rinit is the inintializer of loadings that are derived from standard factor analysis\n",
    "#using  sklearn.decomposition import FactorAnalysis\n",
    "\n",
    "rinit = vectorize(R)\n",
    "Rtau, Testinv = generateTestStatisticTau(retDf)\n",
    "\n",
    "RRho, Testinv = generateTestStatisticRho(retDf, rvec)\n",
    "\n",
    "#Use optim function to minimize the T statistic and optimize the R(v) values\n",
    "#We get factor loadings by building back R matrix and doing choleskey decomposition\n",
    "\n",
    "print(len(Rtau))\n",
    "print(len(rvec))\n",
    "print(Testinv.shape)\n",
    "\n",
    "print(\"T tau value is\")\n",
    "print(-1000*optimfunction(Rtau, Testinv, rinit))\n",
    "\n",
    "restau2 = fmin(optimfunction, rinit, args=(Rtau, Testinv), full_output=True,disp=False)\n",
    " \n",
    "print(\"T rho value is\")\n",
    "\n",
    "\n",
    "print(-1000*optimfunction(rvec, Testinv, rinit))\n",
    "\n",
    "resrho2 = fmin(optimfunction, rinit, args=(rvec, Testinv), full_output=True,disp=False)\n",
    "\n"
   ]
  },
  {
   "cell_type": "markdown",
   "metadata": {},
   "source": [
    "We get optimal vec(R) value. We need to devectorize to get the R - correlation matrix. We then do the SVD decomposition to get the Factor loadings and plot them."
   ]
  },
  {
   "cell_type": "code",
   "execution_count": 13,
   "metadata": {},
   "outputs": [
    {
     "name": "stdout",
     "output_type": "stream",
     "text": [
      "Loadings for factor 1 \n",
      "[-0.6875042   0.57216751 -0.05854416 -0.4423809   0.02887962]\n",
      "Loadings for factor 2 \n",
      "[ 0.00074961 -0.14855539  0.70427659 -0.24408106  0.64988434]\n",
      "Eigen values for SVD decomposition\n",
      "[[1.00005666 0.         0.         0.         0.        ]\n",
      " [0.         1.00000529 0.         0.         0.        ]\n",
      " [0.         0.         0.99999627 0.         0.        ]\n",
      " [0.         0.         0.         0.99999265 0.        ]\n",
      " [0.         0.         0.         0.         0.99994913]]\n"
     ]
    }
   ],
   "source": [
    "#Gets the spearmans correlation estimator and SVD analysis gives factor loadings\n",
    "temp = devectorize(resrho[0])\n",
    "u,s,vh = np.linalg.svd(temp)\n",
    "\n",
    "print(\"Loadings for factor 1 \")\n",
    "print(u[:,0])\n",
    "\n",
    "print(\"Loadings for factor 2 \")\n",
    "print(u[:,1])\n",
    "\n",
    "print(\"Eigen values for SVD decomposition\")\n",
    "print(np.diag(s))\n"
   ]
  },
  {
   "cell_type": "code",
   "execution_count": 14,
   "metadata": {},
   "outputs": [
    {
     "name": "stdout",
     "output_type": "stream",
     "text": [
      "Loadings for factor 1 \n",
      "[ 0.68747374 -0.57213162  0.05927117  0.44239325 -0.02864281]\n",
      "Loadings for factor 2 \n",
      "[-1.95479812e-04 -1.46594498e-01  7.03217077e-01 -2.41249587e-01\n",
      "  6.52529229e-01]\n",
      "Eigen values for SVD decomposition\n",
      "[[1.00005666 0.         0.         0.         0.        ]\n",
      " [0.         1.00000526 0.         0.         0.        ]\n",
      " [0.         0.         0.99999623 0.         0.        ]\n",
      " [0.         0.         0.         0.99999271 0.        ]\n",
      " [0.         0.         0.         0.         0.99994913]]\n"
     ]
    }
   ],
   "source": [
    "#Gets the Kendalls correlation estimator and SVD analysis gives factor loadings\n",
    "\n",
    "temp = devectorize(restau[0])\n",
    "u,s,vh = np.linalg.svd(temp)\n",
    "\n",
    "print(\"Loadings for factor 1 \")\n",
    "print(u[:,0])\n",
    "\n",
    "print(\"Loadings for factor 2 \")\n",
    "print(u[:,1])\n",
    "\n",
    "print(\"Eigen values for SVD decomposition\")\n",
    "print(np.diag(s))\n",
    "\n"
   ]
  },
  {
   "cell_type": "markdown",
   "metadata": {},
   "source": [
    "For the initial value, we used Factor Analysis from sklearn.  decomposition FactorAnalysis which is a simple linear generative model with Gaussian Latent Variables.\n",
    "* For Factor 1 : We can observe that both exchange currency rates are near zero. But oil,gold are negative. S&P500 which is a benchmark index is positive. We can interpretthis as a commodity factor\n",
    "* For Factor 2: We see that both exchange rates are negative , near to -1. Whereasthe oil, SnP500 and gold are near zero. This is a factor which is not even tracked bybenchmark. We can call this as currency factor."
   ]
  },
  {
   "cell_type": "code",
   "execution_count": 15,
   "metadata": {},
   "outputs": [
    {
     "data": {
      "image/png": "[encoded data removed]",
      "text/plain": [
       "<Figure size 432x288 with 1 Axes>"
      ]
     },
     "metadata": {},
     "output_type": "display_data"
    },
    {
     "data": {
      "image/png": "[encoded data removed]",
      "text/plain": [
       "<Figure size 432x288 with 1 Axes>"
      ]
     },
     "metadata": {},
     "output_type": "display_data"
    }
   ],
   "source": [
    "#Factor 1\n",
    "df1 = pd.DataFrame({\"stock\": ['oil', 'SnP500','Usd/Eur','Gold','Usd/Yuan'],\n",
    "                   \"Tau\" : [-0.68894582, 0.48562668, -0.06074125, -0.53442184, 0.01497244],\n",
    "                   \"Rho\" : [-0.68900362, 0.48564336, -0.05955055, -0.53446329, 0.01507526] })\n",
    "df2 = pd.DataFrame({\"stock\": ['oil', 'SnP500','Usd/Eur','Gold','Usd/Yuan'],\n",
    "                   \"Tau\" : [0.00230484, 0.2025604, -0.73951464, 0.2485645,  -0.59185957],\n",
    "                   \"Rho\" : [0.00124429,  0.20623856, -0.74066372,  0.25174185, -0.58779877] })\n",
    "df1.plot(x=\"stock\", y=[\"Tau\", \"Rho\"], style='-o', title = \"Factor 1\")\n",
    "plt.show()\n",
    "df2.plot(x=\"stock\", y=[\"Tau\", \"Rho\"], style='-o', title = \"Factor 2\")\n",
    "plt.show()\n",
    "\n"
   ]
  },
  {
   "cell_type": "code",
   "execution_count": null,
   "metadata": {},
   "outputs": [],
   "source": []
  }
 ],
 "metadata": {
  "colab": {
   "collapsed_sections": [],
   "machine_shape": "hm",
   "name": "517Project_Stockdata.ipynb",
   "provenance": []
  },
  "kernelspec": {
   "display_name": "Python 3",
   "language": "python",
   "name": "python3"
  },
  "language_info": {
   "codemirror_mode": {
    "name": "ipython",
    "version": 3
   },
   "file_extension": ".py",
   "mimetype": "text/x-python",
   "name": "python",
   "nbconvert_exporter": "python",
   "pygments_lexer": "ipython3",
   "version": "3.7.6"
  }
 },
 "nbformat": 4,
 "nbformat_minor": 1
}
